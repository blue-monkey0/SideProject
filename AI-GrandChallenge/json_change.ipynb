{
 "cells": [
  {
   "cell_type": "code",
   "execution_count": 2,
   "metadata": {
    "scrolled": true
   },
   "outputs": [
    {
     "name": "stdout",
     "output_type": "stream",
     "text": [
      "['GOPR5444.json', 'GOPR5446.json', 'GOPR5447.json', 'GOPR5448.json', 'GOPR5449.json', 'GOPR5450-1.json', 'GOPR5451-1.json', 'GOPR5452-1.json', 'GOPR5453.json', 'GOPR5454.json', 'GOPR5455.json', 'GOPR5456.json', 'GOPR5457.json', 'GOPR5458.json', 'GOPR5459.json', 'GOPR5460.json', 'GOPR5461.json', 'GOPR5462.json', 'GOPR5463.json', 'GOPR5464.json', 'GOPR5465.json', 'GOPR5466.json', 'GOPR5467.json', 'GOPR5468.json', 'GOPR5469.json', 'GOPR5470.json', 'GOPR5471.json', 'GOPR5472.json', 'GOPR5473.json', 'GOPR5474.json', 'GOPR5475.json', 'GOPR5476.json', 'GOPR5477.json', 'GOPR5478.json', 'GOPR5479.json', 'GOPR5480.json', 'GOPR5481.json', 'GOPR5482.json', 'GOPR5483.json', 'GOPR5484.json', 'GOPR5485.json', 'GOPR5486.json', 'GOPR5487.json', 'GOPR5488.json', 'GOPR5489.json', 'GOPR5490.json', 'GOPR5491.json', 'GOPR5492.json', 'GOPR5493.json', 'GOPR5494.json', 'GOPR5495.json', 'GOPR5496.json', 'GOPR5497.json', 'GOPR5498.json', 'GOPR5499.json', 'GOPR5500.json', 'GOPR5501.json', 'GOPR5502.json', 'GOPR5503.json', 'GOPR5504.json', 'GOPR5505.json', 'GOPR5506.json', 'GOPR5507.json', 'GOPR5508.json', 'GOPR5509.json', 'GOPR5510.json', 'GOPR5511.json', 'GOPR5512.json', 'GOPR5513.json', 'GOPR5514.json', 'GOPR5515.json', 'GOPR5516.json', 'GOPR5517.json', 'GOPR5518.json', 'GOPR5519.json', 'GOPR5521.json', 'GOPR5522.json', 'GOPR5523.json', 'GOPR5524.json', 'GOPR5526.json', 'GOPR5542.json', 'GOPR5543.json', 'GOPR5544.json', 'GOPR5545.json', 'GOPR5546.json', 'GOPR5548.json', 'GOPR5549.json', 'GOPR5550.json', 'GOPR5551.json', 'GOPR5552.json', 'GOPR5553.json', 'GOPR5554.json', 'GOPR5555.json', 'GOPR5556.json', 'GOPR5557.json', 'GOPR5558.json', 'GOPR5559.json', 'GOPR5560.json', 'GOPR5561.json', 'GOPR5562.json', 'GOPR5563.json', 'GOPR5564.json', 'GOPR5565.json', 'GOPR5566.json', 'GOPR5567.json', 'GOPR5568.json', 'GOPR5569.json', 'GOPR5570.json', 'GOPR5571.json', 'GOPR5572.json', 'GOPR5573.json', 'GOPR5574.json', 'GOPR5575.json', 'GOPR5576.json', 'GOPR5577.json', 'GOPR5578.json', 'GOPR5579.json', 'GOPR5580.json', 'GOPR5581.json', 'GOPR5582.json', 'GOPR5583.json', 'GOPR5584.json', 'GOPR5585.json', 'GOPR5586.json', 'GOPR5588.json', 'GOPR5589.json', 'GOPR5590.json', 'GOPR5591.json', 'GOPR5592.json', 'GOPR5593.json', 'GOPR5594.json', 'GOPR5595.json', 'GOPR5596.json', 'GOPR5597.json', 'GOPR5598.json', 'GOPR5599.json', 'GOPR5600.json', 'GOPR5601.json', 'GOPR5602.json', 'GOPR5603.json', 'GOPR5604.json', 'GOPR5605.json', 'GOPR5606.json', 'GOPR5607.json', 'GOPR5608.json', 'GOPR5609.json', 'GOPR5610.json', 'GOPR5611.json', 'GOPR5612.json', 'GOPR5613.json', 'GOPR5614.json', 'GOPR5615.json', 'GOPR5616.json', 'GOPR5617.json', 'GOPR5618.json', 'GOPR5619.json', 'GOPR5620.json', 'GOPR5621.json', 'GOPR5622.json', 'GOPR5623.json', 'GOPR5624.json', 'GOPR5625.json', 'GOPR5626.json', 'GOPR5627.json', 'GOPR5628.json', 'GOPR5629.json', 'GOPR5630.json', 'GOPR5631.json', 'GOPR5632.json', 'GOPR5633.json', 'GOPR5634.json', 'GOPR5635.json', 'GOPR5636.json', 'GOPR5637.json', 'GOPR5638.json', 'GOPR5639.json', 'GOPR5640.json', 'GOPR5641.json', 'GOPR5642.json', 'GOPR5643.json', 'GOPR5644.json', 'GOPR5645.json', 'GOPR5646.json', 'GOPR5647.json', 'GOPR5648.json', 'GOPR5649.json', 'GOPR5650.json', 'GOPR5651.json', 'GOPR5652.json', 'GOPR5653.json', 'GOPR5654.json', 'GOPR5655.json', 'GOPR5656.json', 'GOPR5657.json', 'GOPR5658.json', 'GOPR5659.json', 'GOPR5660.json', 'GOPR5661.json', 'GOPR5662.json', 'GOPR5663.json', 'GOPR5664.json', 'GOPR5665.json', 'GOPR5666.json', 'GOPR5667.json', 'GOPR5668.json', 'GOPR5669.json', 'GOPR5670.json', 'GOPR5671.json', 'GOPR5672.json', 'GOPR5673.json', 'GOPR5674.json', 'GOPR5675.json', 'GOPR5676.json', 'GOPR5677.json', 'GOPR5678.json', 'GOPR5679.json', 'GOPR5680.json', 'GOPR5681.json', 'GOPR5682.json', 'GOPR5683.json', 'GOPR5684.json', 'GOPR5685.json', 'GOPR5686.json', 'GOPR5687.json', 'GOPR5688.json', 'GOPR5689.json', 'GOPR5690.json', 'GOPR5691.json', 'GOPR5692.json', 'GOPR5693.json', 'GOPR5694.json', 'GOPR5695.json', 'GOPR5696.json', 'GOPR5697.json', 'GOPR5698.json', 'GOPR5699.json', 'GOPR5700.json', 'GOPR5701.json', 'GOPR5702.json', 'GOPR5703.json', 'GOPR5704.json', 'GOPR5705.json', 'GOPR5706.json', 'GOPR5707.json', 'GOPR5709.json', 'GOPR5711.json', 'GOPR5712.json', 'GOPR5713.json', 'GOPR5714.json', 'GOPR5715.json', 'GOPR5716.json', 'GOPR5717.json', 'GOPR5718.json', 'GOPR5719.json', 'GOPR5720.json', 'GOPR5721.json', 'GOPR5722.json', 'GOPR5723.json', 'GOPR5724.json', 'GOPR5725.json', 'GOPR5726.json', 'GOPR5727.json', 'GOPR5728.json', 'GOPR5730.json', 'GOPR5731.json', 'GOPR5732.json', 'GOPR5733.json', 'GOPR5734.json', 'GOPR5735.json', 'GOPR5736.json', 'GOPR5737.json', 'GOPR5738.json', 'GOPR5739.json', 'GOPR5740.json', 'GOPR5741.json', 'GOPR5742.json', 'GOPR5743.json', 'GOPR5744.json', 'GOPR5745.json', 'GOPR5746.json', 'GOPR5747.json', 'GOPR5748.json', 'GOPR5749.json', 'GOPR5750.json', 'GOPR5751.json', 'GOPR5752.json', 'GOPR5753.json', 'GOPR5754.json', 'GOPR5755.json', 'GOPR5756.json', 'GOPR5757.json', 'GOPR5758.json', 'GOPR5759.json', 'GOPR5760.json', 'GOPR5761.json', 'GOPR5762.json', 'GOPR5763.json', 'GOPR5764.json', 'GOPR5765.json', 'GOPR5766.json', 'GOPR5767.json', 'GOPR5768.json', 'GOPR5771.json', 'GOPR5772.json', 'GOPR5773.json', 'GOPR5774.json', 'GOPR5775.json', 'GOPR5776.json', 'GOPR5777.json', 'GOPR5778.json', 'GOPR5780.json', 'GOPR5781.json', 'GOPR5782.json', 'GOPR5784.json', 'GOPR5785.json', 'GOPR5786.json', 'GOPR5787.json', 'GOPR5788.json', 'GOPR5789.json', 'GOPR5790.json', 'GOPR5791.json', 'GOPR5792.json', 'GOPR5793.json', 'GOPR5794.json', 'GOPR5795.json', 'GOPR5796.json', 'GOPR5797.json', 'GOPR5798.json', 'GOPR5799.json', 'GOPR5800.json', 'GOPR5801.json', 'GOPR5802.json', 'GOPR5803.json', 'GOPR5804.json', 'GOPR5805.json', 'GOPR5806.json', 'GOPR5807.json', 'GOPR5808.json', 'GOPR5809.json', 'GOPR5810.json', 'GOPR5811.json', 'GOPR5812.json', 'GOPR5813.json', 'GOPR5814.json', 'GOPR5815.json', 'GOPR5816.json', 'GOPR5817.json', 'GOPR5818.json', 'GOPR5819.json', 'GOPR5820.json', 'GOPR5821.json', 'GOPR5822.json', 'GOPR5823.json', 'GOPR5824.json', 'GOPR5825.json', 'GOPR5826.json', 'GOPR5827.json', 'GOPR5828.json', 'GOPR5829.json', 'GOPR5830.json', 'GOPR5831.json', 'GOPR5832.json', 'GOPR5833.json', 'GOPR5834.json', 'GOPR5835.json', 'GOPR5836.json', 'GOPR5837.json', 'GOPR5838.json', 'GOPR5839.json', 'GOPR5840.json', 'GOPR5841.json', 'GOPR5842.json', 'GOPR5843.json', 'GOPR5844.json', 'GOPR5845.json', 'GOPR5846.json', 'GOPR5847.json', 'GOPR5848.json', 'GOPR5849.json', 'GOPR5850.json', 'GOPR5851.json', 'GOPR5852.json', 'GOPR5853.json', 'GOPR5854.json', 'GOPR5855.json', 'GOPR5856.json', 'GOPR5857.json', 'GOPR5858.json', 'GOPR5859.json', 'GOPR5860.json', 'GOPR5861.json', 'GOPR5862.json', 'GOPR5863.json', 'GOPR5864.json', 'GOPR5865.json', 'GOPR5866.json', 'GOPR5867.json', 'GOPR5868.json', 'GOPR5869.json', 'GOPR5870.json', 'GOPR5871.json', 'GOPR5872.json', 'GOPR5873.json', 'GOPR5874.json', 'GOPR5875.json', 'GOPR5876.json', 'GOPR5877.json', 'GOPR5878.json', 'GOPR5879.json', 'GOPR5880.json', 'GOPR5881.json', 'GOPR5882.json', 'GOPR5883.json', 'GOPR5884.json', 'GOPR5885.json', 'GOPR5886.json', 'GOPR5887.json', 'GOPR5888.json', 'GOPR5889.json', 'GOPR5890.json', 'GOPR5891.json', 'GOPR5892.json', 'GOPR5893.json', 'GOPR5894.json', 'GOPR5895.json', 'GOPR5896.json', 'GOPR5897.json', 'GOPR5898.json', 'GOPR5899.json', 'GOPR5900.json', 'GOPR5901.json', 'GOPR5902.json', 'GOPR5903.json', 'GOPR5904.json', 'GOPR5905.json', 'GOPR5906.json', 'GOPR5907.json', 'GOPR5908.json', 'GOPR5909.json', 'GOPR5910.json', 'GOPR5911.json', 'GOPR5912.json', 'GOPR5913.json', 'GOPR5914.json', 'GOPR5915.json', 'GOPR5916.json', 'GOPR5917.json', 'GOPR5918.json', 'GOPR5919.json', 'GOPR5920.json', 'GOPR5921.json', 'GOPR5922.json']\n"
     ]
    }
   ],
   "source": [
    "import os, json\n",
    "import pandas as pd\n",
    "\n",
    "path_to_json = './2_Result-IITP_Track3_Sample_Result_rework'\n",
    "json_files = [pos_json for pos_json in os.listdir(path_to_json) if pos_json.endswith('.json')]\n",
    "print(json_files)"
   ]
  },
  {
   "cell_type": "code",
   "execution_count": 4,
   "metadata": {},
   "outputs": [],
   "source": [
    "def change(js):\n",
    "  print(list(js.values())[0], end=' ') # 파일명\n",
    "\n",
    "  f_box = []\n",
    "  f_label = []\n",
    "\n",
    "  for i, val in enumerate(list(js.values())[1]):\n",
    "    f_box.append(list(val.values())[0])\n",
    "    f_label.append(list(val.values())[1])\n",
    "\n",
    "  for i in range(len(f_box)):\n",
    "    for j in [0,1,2,3]:\n",
    "      print(f_box[i][j], end = ',') # box값 \n",
    "    print(f_label[i], end = '')     # label 값 \n",
    "    print(' ', end = '')\n",
    "  "
   ]
  },
  {
   "cell_type": "code",
   "execution_count": 5,
   "metadata": {},
   "outputs": [],
   "source": [
    "import sys\n",
    "\n",
    "sys.stdout = open('./final.txt','a')\n",
    "\n",
    "for i in range(452):\n",
    "  with open('./2_Result-IITP_Track3_Sample_Result_rework/{0}'.format(json_files[i]),'r') as f:\n",
    "    json_data = json.load(f)\n",
    "    change(json_data)\n",
    "    print('\\n')"
   ]
  },
  {
   "cell_type": "code",
   "execution_count": 6,
   "metadata": {},
   "outputs": [],
   "source": [
    "out = open('train.txt', 'r')\n",
    "x = out.read()\n",
    "x = x.replace(\"\\n\\n\", \"\\n\")\n",
    "x = x.replace(\"c_1\", \"0\")\n",
    "x = x.replace(\"c_2\", \"1\")\n",
    "x = x.replace(\"c_3\", \"2\")\n",
    "x = x.replace(\"c_4\", \"3\")\n",
    "x = x.replace(\"c_5\", \"4\")\n",
    "x = x.replace(\"c_6\", \"5\")\n",
    "x = x.replace(\"c_7\", \"6\")"
   ]
  },
  {
   "cell_type": "code",
   "execution_count": 7,
   "metadata": {},
   "outputs": [],
   "source": [
    "ts = open('./final.txt', 'w')\n",
    "print(x, file = ts)\n",
    "ts.close()"
   ]
  },
  {
   "cell_type": "code",
   "execution_count": null,
   "metadata": {},
   "outputs": [],
   "source": []
  }
 ],
 "metadata": {
  "kernelspec": {
   "display_name": "Python 3",
   "language": "python",
   "name": "python3"
  },
  "language_info": {
   "codemirror_mode": {
    "name": "ipython",
    "version": 3
   },
   "file_extension": ".py",
   "mimetype": "text/x-python",
   "name": "python",
   "nbconvert_exporter": "python",
   "pygments_lexer": "ipython3",
   "version": "3.6.12"
  }
 },
 "nbformat": 4,
 "nbformat_minor": 4
}
