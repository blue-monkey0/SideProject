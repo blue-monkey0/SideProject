{
 "cells": [
  {
   "cell_type": "markdown",
   "metadata": {},
   "source": [
    "# jpg to png image file"
   ]
  },
  {
   "cell_type": "code",
   "execution_count": 24,
   "metadata": {},
   "outputs": [],
   "source": [
    "from PIL import Image\n",
    "import glob"
   ]
  },
  {
   "cell_type": "code",
   "execution_count": 25,
   "metadata": {},
   "outputs": [],
   "source": [
    "target_dir = './labelling/image/C6-2/'\n",
    "files = glob.glob(target_dir + \"*.*\")"
   ]
  },
  {
   "cell_type": "code",
   "execution_count": 26,
   "metadata": {},
   "outputs": [
    {
     "data": {
      "text/plain": [
       "300"
      ]
     },
     "execution_count": 26,
     "metadata": {},
     "output_type": "execute_result"
    }
   ],
   "source": [
    "len(files)"
   ]
  },
  {
   "cell_type": "code",
   "execution_count": 27,
   "metadata": {},
   "outputs": [],
   "source": [
    "file_name = []\n",
    "\n",
    "for i in list(range(300, len(files)+300)):\n",
    "    file_name.append('C6-'+ str(i))"
   ]
  },
  {
   "cell_type": "code",
   "execution_count": 28,
   "metadata": {},
   "outputs": [],
   "source": [
    "for i, file in enumerate(files):\n",
    "    im = Image.open(file)\n",
    "    im.save('./labelling/image/new_C6/{0}.jpg'.format(file_name[i]))"
   ]
  },
  {
   "cell_type": "markdown",
   "metadata": {},
   "source": [
    "# XML modify"
   ]
  },
  {
   "cell_type": "code",
   "execution_count": 67,
   "metadata": {},
   "outputs": [],
   "source": [
    "import os\n",
    "import xml.etree.ElementTree as ET\n",
    "from xml.etree.ElementTree import Element, dump, ElementTree"
   ]
  },
  {
   "cell_type": "code",
   "execution_count": 2,
   "metadata": {},
   "outputs": [],
   "source": [
    "xml_file = './labelling/output/C2/1.xml'\n",
    "doc = ET.parse(xml_file)\n",
    "#root 노드 가져오기\n",
    "root = doc.getroot()"
   ]
  },
  {
   "cell_type": "code",
   "execution_count": 12,
   "metadata": {},
   "outputs": [],
   "source": [
    "xml_name = root.findall(\"filename\")"
   ]
  },
  {
   "cell_type": "code",
   "execution_count": 13,
   "metadata": {},
   "outputs": [
    {
     "name": "stdout",
     "output_type": "stream",
     "text": [
      "1.JPG\n"
     ]
    }
   ],
   "source": [
    "print(xml_name[0].text)"
   ]
  },
  {
   "cell_type": "code",
   "execution_count": 5,
   "metadata": {},
   "outputs": [],
   "source": [
    "file_path = root.findall(\"path\")"
   ]
  },
  {
   "cell_type": "code",
   "execution_count": 6,
   "metadata": {},
   "outputs": [
    {
     "name": "stdout",
     "output_type": "stream",
     "text": [
      "C:\\Users\\hee11\\labelImg\\input_images\\한거\\1.JPG\n"
     ]
    }
   ],
   "source": [
    "print(file_path[0].text)"
   ]
  },
  {
   "cell_type": "code",
   "execution_count": 11,
   "metadata": {},
   "outputs": [
    {
     "data": {
      "text/plain": [
       "'C7-0'"
      ]
     },
     "execution_count": 11,
     "metadata": {},
     "output_type": "execute_result"
    }
   ],
   "source": [
    "file_name[0]"
   ]
  },
  {
   "cell_type": "code",
   "execution_count": 21,
   "metadata": {},
   "outputs": [],
   "source": [
    "# fileName 수정\n",
    "xml_name[0].text = file_name[0]"
   ]
  },
  {
   "cell_type": "code",
   "execution_count": 20,
   "metadata": {},
   "outputs": [],
   "source": [
    "# 저장\n",
    "doc.write(xml_file)"
   ]
  },
  {
   "cell_type": "markdown",
   "metadata": {},
   "source": [
    "### ======================================"
   ]
  },
  {
   "cell_type": "code",
   "execution_count": 37,
   "metadata": {},
   "outputs": [],
   "source": [
    "before_jpg_path = './labelling/image/C1/'\n",
    "before_jpg = glob.glob(before_jpg_path + \"*.*\")"
   ]
  },
  {
   "cell_type": "code",
   "execution_count": 38,
   "metadata": {},
   "outputs": [
    {
     "data": {
      "text/plain": [
       "100"
      ]
     },
     "execution_count": 38,
     "metadata": {},
     "output_type": "execute_result"
    }
   ],
   "source": [
    "len(before_jpg)"
   ]
  },
  {
   "cell_type": "code",
   "execution_count": 39,
   "metadata": {},
   "outputs": [
    {
     "data": {
      "text/plain": [
       "'cardboard131.jpg'"
      ]
     },
     "execution_count": 39,
     "metadata": {},
     "output_type": "execute_result"
    }
   ],
   "source": [
    "before_jpg[0][21:]"
   ]
  },
  {
   "cell_type": "code",
   "execution_count": 73,
   "metadata": {},
   "outputs": [
    {
     "data": {
      "text/plain": [
       "'cardboard132.jpg'"
      ]
     },
     "execution_count": 73,
     "metadata": {},
     "output_type": "execute_result"
    }
   ],
   "source": [
    "before_jpg[1][21:]"
   ]
  },
  {
   "cell_type": "code",
   "execution_count": 41,
   "metadata": {},
   "outputs": [],
   "source": [
    "before_xml_path = './labelling/output/C1/cardboard131.xml'\n",
    "doc = ET.parse(before_xml_path)\n",
    "#root 노드 가져오기\n",
    "root = doc.getroot()"
   ]
  },
  {
   "cell_type": "code",
   "execution_count": 44,
   "metadata": {},
   "outputs": [
    {
     "name": "stdout",
     "output_type": "stream",
     "text": [
      "cardboard131.jpg\n"
     ]
    }
   ],
   "source": [
    "# <filename> 태그 추출\n",
    "xml_name = root.findall(\"filename\")\n",
    "print(xml_name[0].text)"
   ]
  },
  {
   "cell_type": "code",
   "execution_count": 45,
   "metadata": {
    "scrolled": true
   },
   "outputs": [
    {
     "name": "stdout",
     "output_type": "stream",
     "text": [
      "input_images\n"
     ]
    }
   ],
   "source": [
    "# <folder> 태그 추출\n",
    "xml_folder = root.findall(\"folder\")\n",
    "print(xml_folder[0].text)"
   ]
  },
  {
   "cell_type": "code",
   "execution_count": 46,
   "metadata": {},
   "outputs": [
    {
     "name": "stdout",
     "output_type": "stream",
     "text": [
      "D:\\ai\\labelImg\\input_images\\cardboard131.jpg\n"
     ]
    }
   ],
   "source": [
    "# <path> 태그 추출\n",
    "xml_path = root.findall(\"path\")\n",
    "print(xml_path[0].text)"
   ]
  },
  {
   "cell_type": "code",
   "execution_count": 43,
   "metadata": {},
   "outputs": [
    {
     "data": {
      "text/plain": [
       "True"
      ]
     },
     "execution_count": 43,
     "metadata": {},
     "output_type": "execute_result"
    }
   ],
   "source": [
    "before_jpg[0][21:] == xml_name[0].text"
   ]
  },
  {
   "cell_type": "code",
   "execution_count": 66,
   "metadata": {},
   "outputs": [],
   "source": [
    "if (before_jpg[0][21:] != xml_name[0].text):\n",
    "    xml_name[0].text = file_name[0] + '.jpg'\n",
    "    xml_folder[0].text = 'new_C1'\n",
    "    xml_path[0].text = r'D:\\Deeplearining\\labelling\\image\\new_C1\\C1-0.jpg'\n",
    "    doc.write(after_xml_path)"
   ]
  },
  {
   "cell_type": "code",
   "execution_count": 65,
   "metadata": {},
   "outputs": [],
   "source": [
    "after_xml_path = './labelling/output/new_C1/C1-0.xml'"
   ]
  },
  {
   "cell_type": "markdown",
   "metadata": {},
   "source": [
    "## 반복문 짜기 =============================="
   ]
  },
  {
   "cell_type": "markdown",
   "metadata": {},
   "source": [
    "1. 변경 전 jpg 파일명 == 수정 전 xml 파일의 <name> 태그와 같으면\n",
    "    수정 전 xml_name[0].text 값에 수정 후 jpg 파일명 넣기\n",
    "    \n",
    "2. 수정 전 xml_folder 에다가 수정 후 디렉토리 명 입력\n",
    "\n",
    "3. 수정 전 xml_path 에다가 r'' 표시로 수정 후 디렉토리 + 파일 명 입력\n",
    "\n",
    "4. 저장 시 새로운 디렉토리에 저장\n",
    "   "
   ]
  },
  {
   "cell_type": "code",
   "execution_count": 74,
   "metadata": {},
   "outputs": [],
   "source": [
    "before_jpg_path = './labelling/image/C1/'\n",
    "before_jpg = glob.glob(before_jpg_path + \"*.*\")"
   ]
  },
  {
   "cell_type": "code",
   "execution_count": null,
   "metadata": {},
   "outputs": [],
   "source": [
    "before_xml_path = './labelling/output/C1/cardboard131.xml'\n",
    "doc = ET.parse(before_xml_path)\n",
    "#root 노드 가져오기\n",
    "root = doc.getroot()"
   ]
  },
  {
   "cell_type": "code",
   "execution_count": 77,
   "metadata": {},
   "outputs": [
    {
     "data": {
      "text/plain": [
       "'cardboard132.xml'"
      ]
     },
     "execution_count": 77,
     "metadata": {},
     "output_type": "execute_result"
    }
   ],
   "source": [
    "xml_list[1]"
   ]
  },
  {
   "cell_type": "code",
   "execution_count": 76,
   "metadata": {},
   "outputs": [
    {
     "data": {
      "text/plain": [
       "'C7-0.jpg'"
      ]
     },
     "execution_count": 76,
     "metadata": {},
     "output_type": "execute_result"
    }
   ],
   "source": [
    "xml_name[0].text"
   ]
  },
  {
   "cell_type": "code",
   "execution_count": 78,
   "metadata": {},
   "outputs": [
    {
     "data": {
      "text/plain": [
       "'D:\\\\Deeplearining\\\\labelling\\\\output\\\\C1\\\\./labelling/output/C2/1.xml'"
      ]
     },
     "execution_count": 78,
     "metadata": {},
     "output_type": "execute_result"
    }
   ],
   "source": [
    "targetDir + '\\\\' + xml_file"
   ]
  },
  {
   "cell_type": "code",
   "execution_count": 83,
   "metadata": {
    "collapsed": true
   },
   "outputs": [
    {
     "data": {
      "text/plain": [
       "['C7-0',\n",
       " 'C7-1',\n",
       " 'C7-2',\n",
       " 'C7-3',\n",
       " 'C7-4',\n",
       " 'C7-5',\n",
       " 'C7-6',\n",
       " 'C7-7',\n",
       " 'C7-8',\n",
       " 'C7-9',\n",
       " 'C7-10',\n",
       " 'C7-11',\n",
       " 'C7-12',\n",
       " 'C7-13',\n",
       " 'C7-14',\n",
       " 'C7-15',\n",
       " 'C7-16',\n",
       " 'C7-17',\n",
       " 'C7-18',\n",
       " 'C7-19',\n",
       " 'C7-20',\n",
       " 'C7-21',\n",
       " 'C7-22',\n",
       " 'C7-23',\n",
       " 'C7-24',\n",
       " 'C7-25',\n",
       " 'C7-26',\n",
       " 'C7-27',\n",
       " 'C7-28',\n",
       " 'C7-29',\n",
       " 'C7-30',\n",
       " 'C7-31',\n",
       " 'C7-32',\n",
       " 'C7-33',\n",
       " 'C7-34',\n",
       " 'C7-35',\n",
       " 'C7-36',\n",
       " 'C7-37',\n",
       " 'C7-38',\n",
       " 'C7-39',\n",
       " 'C7-40',\n",
       " 'C7-41',\n",
       " 'C7-42',\n",
       " 'C7-43',\n",
       " 'C7-44',\n",
       " 'C7-45',\n",
       " 'C7-46',\n",
       " 'C7-47',\n",
       " 'C7-48',\n",
       " 'C7-49',\n",
       " 'C7-50',\n",
       " 'C7-51',\n",
       " 'C7-52',\n",
       " 'C7-53',\n",
       " 'C7-54',\n",
       " 'C7-55',\n",
       " 'C7-56',\n",
       " 'C7-57',\n",
       " 'C7-58',\n",
       " 'C7-59',\n",
       " 'C7-60',\n",
       " 'C7-61',\n",
       " 'C7-62',\n",
       " 'C7-63',\n",
       " 'C7-64',\n",
       " 'C7-65',\n",
       " 'C7-66',\n",
       " 'C7-67',\n",
       " 'C7-68',\n",
       " 'C7-69',\n",
       " 'C7-70',\n",
       " 'C7-71',\n",
       " 'C7-72',\n",
       " 'C7-73',\n",
       " 'C7-74',\n",
       " 'C7-75',\n",
       " 'C7-76',\n",
       " 'C7-77',\n",
       " 'C7-78',\n",
       " 'C7-79',\n",
       " 'C7-80',\n",
       " 'C7-81',\n",
       " 'C7-82',\n",
       " 'C7-83',\n",
       " 'C7-84',\n",
       " 'C7-85',\n",
       " 'C7-86',\n",
       " 'C7-87',\n",
       " 'C7-88',\n",
       " 'C7-89',\n",
       " 'C7-90',\n",
       " 'C7-91',\n",
       " 'C7-92',\n",
       " 'C7-93',\n",
       " 'C7-94',\n",
       " 'C7-95',\n",
       " 'C7-96',\n",
       " 'C7-97',\n",
       " 'C7-98',\n",
       " 'C7-99']"
      ]
     },
     "execution_count": 83,
     "metadata": {},
     "output_type": "execute_result"
    }
   ],
   "source": [
    "file_name"
   ]
  },
  {
   "cell_type": "code",
   "execution_count": 84,
   "metadata": {},
   "outputs": [],
   "source": [
    "file_name = []\n",
    "\n",
    "for i in list(range(len(files))):\n",
    "    file_name.append('C1-'+ str(i))"
   ]
  },
  {
   "cell_type": "code",
   "execution_count": null,
   "metadata": {},
   "outputs": [],
   "source": [
    "before_jpg_path = './labelling/image/C1/'\n",
    "before_jpg = glob.glob(before_jpg_path + \"*.*\")\n",
    "after_xml_path = './labelling/output/new_C1/C1-0.xml'\n",
    "\n",
    "\n",
    "for xml_file in xml_list:\n",
    "    target_path = './labelling/output/C1/' + xml_file\n",
    "    targetXML = open(target_path, 'rt', encoding = 'UTF8')\n",
    "    \n",
    "    tree = ET.parse(targetXML)\n",
    "    \n",
    "    root = tree.getroot()\n",
    "    \n",
    "    # modify\n",
    "    \n",
    "    # <filename> 태그 추출\n",
    "    xml_name = root.findall(\"filename\")\n",
    "    print(xml_name[0].text)\n",
    "    \n",
    "    # <folder> 태그 추출\n",
    "    xml_folder = root.findall(\"folder\")\n",
    "    print(xml_folder[0].text)\n",
    "    \n",
    "    # <path> 태그 추출\n",
    "    xml_path = root.findall(\"path\")\n",
    "    print(xml_path[0].text)\n",
    "    \n",
    "    for i in list(range(len(before_jpg))):\n",
    "        if (before_jpg[i][21:] == xml_name[0].text):\n",
    "            xml_name[0].text = file_name[i] + '.jpg'\n",
    "            xml_folder[0].text = 'new_C1'\n",
    "            xml_path[0].text = r'D:\\Deeplearining\\labelling\\image\\new_C1\\{0}.jpg'.format(file_name[i])\n",
    "            doc.write('./labelling/output/new_C1/{0}.xml'.format(file_name[i]))\n",
    "        else :\n",
    "            "
   ]
  },
  {
   "cell_type": "code",
   "execution_count": null,
   "metadata": {},
   "outputs": [],
   "source": [
    "for xml_file in xml_list:\n",
    "    target_path = targetDir + \"\\\\\" + xml_file\n",
    "    targetXML = open(target_path, 'rt', encoding='UTF8')\n",
    "\n",
    "    tree = ET.parse(targetXML)\n",
    "\n",
    "    root = tree.getroot()\n",
    "\n",
    "    ##수정할 부분\n",
    "    target_tag = root.find(\"path\")\n",
    "\n",
    "    original = target_tag.text     #원본 String\n",
    "    modified = original.replace(r\"/home/ailsb/\",r\"C:\\Users\\kimsk\\lab_research\")\n",
    "    modified = modified.replace(\"/\", \"\\\\\")\n",
    "    target_tag.text = modified  #수정\n",
    "    print(\"[\" + str(num) + \"]\" + xml_file + \"[success]\")\n",
    "    \n",
    "    tree.write(target_path)\n",
    "    num += 1\n",
    "\n",
    "print(\"finished\")"
   ]
  }
 ],
 "metadata": {
  "kernelspec": {
   "display_name": "Python 3",
   "language": "python",
   "name": "python3"
  },
  "language_info": {
   "codemirror_mode": {
    "name": "ipython",
    "version": 3
   },
   "file_extension": ".py",
   "mimetype": "text/x-python",
   "name": "python",
   "nbconvert_exporter": "python",
   "pygments_lexer": "ipython3",
   "version": "3.6.12"
  }
 },
 "nbformat": 4,
 "nbformat_minor": 4
}
