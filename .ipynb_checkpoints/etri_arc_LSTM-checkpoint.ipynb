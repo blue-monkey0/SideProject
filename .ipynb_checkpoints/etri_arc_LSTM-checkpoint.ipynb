{
 "cells": [
  {
   "cell_type": "code",
   "execution_count": 1,
   "metadata": {
    "id": "wU1DbPUeX5cM"
   },
   "outputs": [
    {
     "ename": "ModuleNotFoundError",
     "evalue": "No module named 'pandas'",
     "output_type": "error",
     "traceback": [
      "\u001b[1;31m---------------------------------------------------------------------------\u001b[0m",
      "\u001b[1;31mModuleNotFoundError\u001b[0m                       Traceback (most recent call last)",
      "\u001b[1;32m<ipython-input-1-f1c2640b1919>\u001b[0m in \u001b[0;36m<module>\u001b[1;34m\u001b[0m\n\u001b[1;32m----> 1\u001b[1;33m \u001b[1;32mimport\u001b[0m \u001b[0mpandas\u001b[0m \u001b[1;32mas\u001b[0m \u001b[0mpd\u001b[0m\u001b[1;33m\u001b[0m\u001b[1;33m\u001b[0m\u001b[0m\n\u001b[0m\u001b[0;32m      2\u001b[0m \u001b[1;32mimport\u001b[0m \u001b[0mnumpy\u001b[0m \u001b[1;32mas\u001b[0m \u001b[0mnp\u001b[0m\u001b[1;33m\u001b[0m\u001b[1;33m\u001b[0m\u001b[0m\n\u001b[0;32m      3\u001b[0m \u001b[1;32mimport\u001b[0m \u001b[0mmatplotlib\u001b[0m\u001b[1;33m.\u001b[0m\u001b[0mpyplot\u001b[0m \u001b[1;32mas\u001b[0m \u001b[0mplt\u001b[0m\u001b[1;33m\u001b[0m\u001b[1;33m\u001b[0m\u001b[0m\n\u001b[0;32m      4\u001b[0m \u001b[0mget_ipython\u001b[0m\u001b[1;33m(\u001b[0m\u001b[1;33m)\u001b[0m\u001b[1;33m.\u001b[0m\u001b[0mrun_line_magic\u001b[0m\u001b[1;33m(\u001b[0m\u001b[1;34m'matplotlib'\u001b[0m\u001b[1;33m,\u001b[0m \u001b[1;34m'inline'\u001b[0m\u001b[1;33m)\u001b[0m\u001b[1;33m\u001b[0m\u001b[1;33m\u001b[0m\u001b[0m\n\u001b[0;32m      5\u001b[0m \u001b[1;32mimport\u001b[0m \u001b[0mseaborn\u001b[0m \u001b[1;32mas\u001b[0m \u001b[0msns\u001b[0m\u001b[1;33m\u001b[0m\u001b[1;33m\u001b[0m\u001b[0m\n",
      "\u001b[1;31mModuleNotFoundError\u001b[0m: No module named 'pandas'"
     ]
    }
   ],
   "source": [
    "import pandas as pd\n",
    "import numpy as np\n",
    "import matplotlib.pyplot as plt\n",
    "%matplotlib inline \n",
    "import math\n",
    "from scipy import signal"
   ]
  },
  {
   "cell_type": "code",
   "execution_count": null,
   "metadata": {},
   "outputs": [],
   "source": [
    "import tensorflow as tf\n",
    "tf.test.is_built_with_cuda()\n",
    "tf.config.list_physical_devices('GPU')\n",
    "#tf.test.is_gpu_available('GPU') 위의 함수로 바뀐다고 함 (2.4.0)"
   ]
  },
  {
   "cell_type": "code",
   "execution_count": null,
   "metadata": {
    "id": "15kUssKlZHX6"
   },
   "outputs": [],
   "source": [
    "# 지수 표현 제거\n",
    "pd.options.display.float_format = '{:.5f}'.format"
   ]
  },
  {
   "cell_type": "markdown",
   "metadata": {
    "id": "1Szugxc-YDjh"
   },
   "source": [
    "# Normal signal"
   ]
  },
  {
   "cell_type": "code",
   "execution_count": null,
   "metadata": {
    "id": "M8gUOyzbYBwD"
   },
   "outputs": [],
   "source": [
    "# sampling rate\n",
    "fs = 1000000 # 1MHz\n",
    "\n",
    "# signal length\n",
    "t = np.arange(0, 0.2, 1 / fs) # s, sampling interval, time array\n",
    "\n",
    "# generate signal\n",
    "f1 = 60 # 60Hz\n",
    "signal_f = 2*np.sin(2*np.pi*f1*t)  # amplitude = 2\n",
    "\n",
    "# generate noise signal\n",
    "np.random.seed(222)\n",
    "n1 = np.random.uniform(1000000, 1500000, len(t)) # 1MHz ~ 1.5 MHz\n",
    "signal_n = 0.2*np.sin(2*np.pi*n1*t)\n",
    "\n",
    "# total signal\n",
    "normal_signal = signal_f + signal_n"
   ]
  },
  {
   "cell_type": "code",
   "execution_count": null,
   "metadata": {
    "colab": {
     "base_uri": "https://localhost:8080/",
     "height": 362
    },
    "id": "Jbfov4UCYLNP",
    "outputId": "ce99772c-0810-43c7-aa51-70567b769e6e"
   },
   "outputs": [],
   "source": [
    "# visualizing signal\n",
    "\n",
    "plt.figure(num = 1, dpi = 100)\n",
    "plt.plot(t, normal_signal)\n",
    "plt.grid()"
   ]
  },
  {
   "cell_type": "markdown",
   "metadata": {
    "id": "dUfdQLQ9YT4j"
   },
   "source": [
    "# Arc signal"
   ]
  },
  {
   "cell_type": "code",
   "execution_count": null,
   "metadata": {
    "colab": {
     "base_uri": "https://localhost:8080/"
    },
    "id": "R3uWrvtTYPqJ",
    "outputId": "52139c87-4432-46a9-fd3e-1c15e94cfa31"
   },
   "outputs": [],
   "source": [
    "#  generate noise Arc signal\n",
    "\n",
    "n3 = 4000000 # 4MHz\n",
    "\n",
    "np.random.seed(333)\n",
    "random_mag_Arc = np.random.uniform(0.8, 1.1, 1500)\n",
    "signal_Arc = random_mag_Arc*np.sin(2*np.pi*n3*t[82500:84000])\n",
    "\n",
    "signal_Arc # 아크 신호"
   ]
  },
  {
   "cell_type": "code",
   "execution_count": null,
   "metadata": {
    "id": "tCLgAvcWYVzF"
   },
   "outputs": [],
   "source": [
    "temp = list(normal_signal) # shoulder 범위만 아크 신호를 더해주기 위해 타입변환\n",
    "\n",
    "# shoulder 범위만 아크 신호 더하고 shoulder 범위가 아닌 부분은 아크신호를 더하지 않음.\n",
    "\n",
    "import random\n",
    "num_s =[] # shoulder 부분 Counting 역할\n",
    "\n",
    "i,j = 1, 0\n",
    "s0 = temp[82500*0+1500*0:82500*1+1500*0]\n",
    "end = (82500*1)+(1500*0)\n",
    "\n",
    "while (len(s0) < 200000):\n",
    "    start = end\n",
    "    np.random.seed(0)\n",
    "    num = random.randint(0,1) # 아크 신호를 랜덤하기 더해주기 위한 규칙 생성\n",
    "    num_s.append(num)\n",
    "    \n",
    "    if i == j: # shoulder 범위가 아닐때 그냥 신호 더해줌.\n",
    "        i += 1\n",
    "        end = (82500*i)+(1500*j)\n",
    "        s0 = s0+temp[start:end]\n",
    "    elif i!=j and num == 1: # shoulder 범위 이면서 num == 2일 경우 아크 신호 더함.\n",
    "        j += 1\n",
    "        end = (82500*i)+(1500*j)\n",
    "        x = temp[start:end] + signal_Arc\n",
    "        s0 = s0+ list(x) \n",
    "    else: # shoulder 범위 이나 num은 2가 아닐 경우 노말 신호만 더해줌.\n",
    "        j += 1\n",
    "        end = (82500*i)+(1500*j)\n",
    "        s0 = s0+ temp[start:end] \n",
    "        \n",
    "sig = np.array(s0) # numpy array type으로 변환"
   ]
  },
  {
   "cell_type": "code",
   "execution_count": null,
   "metadata": {
    "colab": {
     "base_uri": "https://localhost:8080/",
     "height": 362
    },
    "id": "3OWaNVmwYdcq",
    "outputId": "a4d71441-50f7-49ff-b0eb-fe1d81904efa"
   },
   "outputs": [],
   "source": [
    "# visualizing signal (노말과 아크 상태를 추가하여 완성된 신호)\n",
    "\n",
    "plt.figure(num = 1, dpi = 100)\n",
    "plt.plot(t, sig)\n",
    "plt.grid()"
   ]
  },
  {
   "cell_type": "code",
   "execution_count": null,
   "metadata": {
    "id": "XNsdS69PY7n8"
   },
   "outputs": [],
   "source": [
    "import pandas as pd\n",
    "\n",
    "dat_df = pd.DataFrame({'time':t, 'mag':sig})\n",
    "\n",
    "# 데이터 파일 csv 형식으로 저장.\n",
    "dat_df.to_csv('dat_df.csv', index = False)"
   ]
  },
  {
   "cell_type": "code",
   "execution_count": null,
   "metadata": {
    "id": "zLhkU3IwZBTk"
   },
   "outputs": [],
   "source": [
    "import pathlib\n",
    "import numpy as np\n",
    "import matplotlib.pyplot as plt\n",
    "import pandas as pd\n",
    "import seaborn as sns\n",
    "\n",
    "from sklearn.preprocessing import RobustScaler, MaxAbsScaler, StandardScaler\n",
    "\n",
    "import tensorflow as tf\n",
    "from tensorflow import keras\n",
    "from tensorflow.keras import layers\n",
    "from tensorflow.keras.models import Sequential, load_model\n",
    "from tensorflow.keras.layers import Dense, Dropout, LSTM, BatchNormalization, RepeatVector, TimeDistributed"
   ]
  },
  {
   "cell_type": "code",
   "execution_count": null,
   "metadata": {
    "colab": {
     "base_uri": "https://localhost:8080/",
     "height": 450
    },
    "id": "PWDiSeP_ZDl4",
    "outputId": "f987e10c-683f-4d7b-93b9-f4586884ee60"
   },
   "outputs": [],
   "source": [
    "sig_df = pd.read_csv('dat_df.csv')\n",
    "sig_df.set_index(sig_df['time'], inplace=True)\n",
    "sig_df.drop(['time'], axis = 1, inplace = True)\n",
    "sig_df"
   ]
  },
  {
   "cell_type": "code",
   "execution_count": null,
   "metadata": {
    "colab": {
     "base_uri": "https://localhost:8080/"
    },
    "id": "1ZNzsO2wZLlq",
    "outputId": "0b32a64f-40c5-4784-f796-09ce5a5a2ecf"
   },
   "outputs": [],
   "source": [
    "train_size = int(len(sig_df) * 0.95)\n",
    "test_size = len(sig_df) - train_size\n",
    "train, test = sig_df.iloc[0:train_size], sig_df.iloc[train_size:len(sig_df)]\n",
    "print(train.shape, test.shape)"
   ]
  },
  {
   "cell_type": "code",
   "execution_count": null,
   "metadata": {
    "colab": {
     "base_uri": "https://localhost:8080/"
    },
    "id": "4s3IdRYfZM3A",
    "outputId": "f7062667-d5c0-457c-b5af-e29b4367570e"
   },
   "outputs": [],
   "source": [
    "scaler = StandardScaler()\n",
    "scaler = scaler.fit(train[['mag']])\n",
    "\n",
    "train['mag'] = scaler.transform(train[['mag']])\n",
    "test['mag'] = scaler.transform(test[['mag']])"
   ]
  },
  {
   "cell_type": "code",
   "execution_count": null,
   "metadata": {
    "colab": {
     "base_uri": "https://localhost:8080/"
    },
    "id": "vefkd-rEZOLu",
    "outputId": "c5ce92b8-b2cc-4f22-d0bd-43406dce7321"
   },
   "outputs": [],
   "source": [
    "TIME_STEPS=500\n",
    "\n",
    "def create_sequences(X, y, time_steps=TIME_STEPS):\n",
    "    Xs, ys = [], []\n",
    "    for i in range(len(X)-time_steps):\n",
    "        Xs.append(X.iloc[i:(i+time_steps)].values)\n",
    "        ys.append(y.iloc[i+time_steps])\n",
    "    \n",
    "    return np.array(Xs), np.array(ys)\n",
    "\n",
    "X_train, y_train = create_sequences(train[['mag']], train['mag'])\n",
    "X_test, y_test = create_sequences(test[['mag']], test['mag'])\n",
    "\n",
    "print(f'Training shape: {X_train.shape}')\n",
    "print(f'Testing shape: {X_test.shape}')"
   ]
  },
  {
   "cell_type": "code",
   "execution_count": null,
   "metadata": {
    "colab": {
     "base_uri": "https://localhost:8080/"
    },
    "id": "PYFeN7TF58Sr",
    "outputId": "b42aaedf-a3f4-43fd-82ef-5eb29a64355b"
   },
   "outputs": [],
   "source": [
    "model = tf.keras.Sequential([\n",
    "                             tf.keras.layers.LSTM(units = 30, return_sequences=True, input_shape=[500, 1]),\n",
    "                             tf.keras.layers.LSTM(units = 30),\n",
    "                             tf.keras.layers.Dropout(0.3),\n",
    "                             tf.keras.layers.Dense(1)\n",
    "])\n",
    "\n",
    "model.compile(optimizer='rmsprop', loss='mse')   #'rmsprop'\n",
    "model.summary()"
   ]
  },
  {
   "cell_type": "code",
   "execution_count": null,
   "metadata": {
    "colab": {
     "base_uri": "https://localhost:8080/"
    },
    "id": "RsJaCXsi6QqX",
    "outputId": "a1c146ca-6e28-42ff-ef83-66cf3916c774"
   },
   "outputs": [],
   "source": [
    "history = model.fit(X_train, y_train, epochs = 10, batch_size = 16, validation_split=0.1)"
   ]
  },
  {
   "cell_type": "code",
   "execution_count": null,
   "metadata": {
    "colab": {
     "base_uri": "https://localhost:8080/",
     "height": 279
    },
    "id": "je-YRm2M6b1M",
    "outputId": "679a7ab6-7736-4487-a885-dc43cd294d57"
   },
   "outputs": [],
   "source": [
    "import matplotlib.pyplot as plt\n",
    "plt.plot(history.history['loss'], 'b-', label = 'loss')\n",
    "plt.plot(history.history['val_loss'], 'r--', label = 'val_loss')\n",
    "plt.xlabel('Epoch')\n",
    "plt.legend()\n",
    "plt.show()"
   ]
  },
  {
   "cell_type": "code",
   "execution_count": null,
   "metadata": {
    "colab": {
     "base_uri": "https://localhost:8080/",
     "height": 262
    },
    "id": "v0-Dx90p6iRe",
    "outputId": "9a2a0a63-9c93-4b92-92b9-0b62697bcc13"
   },
   "outputs": [],
   "source": [
    "model.evaluate(X_test, y_test)\n",
    "prediction = model.predict(X_test)\n",
    "\n",
    "for i in range(len(X_test)):\n",
    "    print(Y_test[i], '\\t', prediction[i], '\\tdiff:', abs(prediction[i] - Y_test[i]))\n",
    "\n",
    "prediction = model.predict(X_test)\n",
    "fail = 0\n",
    "for i in range(len(prediction)):\n",
    "  for j in range(6):\n",
    "    if abs(prediction[i][j] - Y_test[i][j]) > 0.1:\n",
    "      fail += 1\n",
    "print('correctness:', (129 - fail) / 129*100, '%')"
   ]
  },
  {
   "cell_type": "code",
   "execution_count": null,
   "metadata": {
    "id": "fKNh9AP87nZd"
   },
   "outputs": [],
   "source": [
    "model.save('arc.h5')"
   ]
  },
  {
   "cell_type": "code",
   "execution_count": null,
   "metadata": {
    "id": "qPaZY3Ol7q-B"
   },
   "outputs": [],
   "source": [
    "model = load_model('arc.h5')"
   ]
  },
  {
   "cell_type": "code",
   "execution_count": null,
   "metadata": {
    "id": "jQpfufO6Z0en"
   },
   "outputs": [],
   "source": [
    "#model = Sequential()\n",
    "#model.add(LSTM(128, input_shape=(X_train.shape[1], X_train.shape[2])))\n",
    "#model.add(Dropout(rate=0.2))\n",
    "#model.add(Dense(1, activation = 'sigmoid'))\n",
    "#model.compile(optimizer='rmsprop', loss='binary_crossentropy', metrics = ['acc'])\n",
    "#model.summary()"
   ]
  },
  {
   "cell_type": "code",
   "execution_count": null,
   "metadata": {
    "id": "VeqdohJKZ3fl"
   },
   "outputs": [],
   "source": [
    "#history = model.fit(X_train, y_train, epochs=10, batch_size=16, validation_split=0.1,)"
   ]
  },
  {
   "cell_type": "code",
   "execution_count": null,
   "metadata": {
    "id": "R3XR9XB64wYq"
   },
   "outputs": [],
   "source": [
    "#plt.plot(history.history['loss'], label='Training loss')\n",
    "#plt.plot(history.history['val_loss'], label='Validation loss')\n",
    "#plt.legend();"
   ]
  },
  {
   "cell_type": "code",
   "execution_count": null,
   "metadata": {
    "id": "snMtaLU845ys"
   },
   "outputs": [],
   "source": [
    "#model.evaluate(X_test, y_test)"
   ]
  }
 ],
 "metadata": {
  "accelerator": "GPU",
  "colab": {
   "authorship_tag": "ABX9TyNV8FYBXiqqc8roN5MfdAt1",
   "collapsed_sections": [],
   "include_colab_link": true,
   "name": "etri_arc_LSTM.ipynb",
   "provenance": []
  },
  "kernelspec": {
   "display_name": "Python 3",
   "language": "python",
   "name": "python3"
  },
  "language_info": {
   "codemirror_mode": {
    "name": "ipython",
    "version": 3
   },
   "file_extension": ".py",
   "mimetype": "text/x-python",
   "name": "python",
   "nbconvert_exporter": "python",
   "pygments_lexer": "ipython3",
   "version": "3.7.9"
  }
 },
 "nbformat": 4,
 "nbformat_minor": 1
}
